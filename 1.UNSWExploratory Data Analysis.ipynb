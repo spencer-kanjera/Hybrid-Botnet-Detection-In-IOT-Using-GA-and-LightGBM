{
 "cells": [
  {
   "cell_type": "markdown",
   "metadata": {},
   "source": [
    "## 1.\tDataset Characteristics and Exploratory Data Analysis"
   ]
  },
  {
   "cell_type": "markdown",
   "metadata": {},
   "source": [
    "**Analysis of CIC-IDS 2017 Dataset based on the percentages of attack types**"
   ]
  },
  {
   "cell_type": "code",
   "execution_count": 1,
   "metadata": {},
   "outputs": [],
   "source": [
    "import pandas as pd\n",
    "import numpy as np\n",
    "import matplotlib.pyplot as plt\n",
    "import seaborn as sns\n",
    "from sklearn.model_selection import train_test_split\n",
    "\n"
   ]
  },
  {
   "cell_type": "code",
   "execution_count": 2,
   "metadata": {},
   "outputs": [
    {
     "name": "stdout",
     "output_type": "stream",
     "text": [
      "Training data shape: (2934817, 19)\n",
      "Testing data shape: (733705, 19)\n"
     ]
    }
   ],
   "source": [
    " # Cell 1 Loading the data \n",
    " #Set plotting style\n",
    "sns.set(style=\"whitegrid\", palette=\"muted\", font_scale=1.1)\n",
    "\n",
    "# Load the datasets\n",
    "data_test = pd.read_csv(r\"C:\\VS code projects\\data_files\\UNSW_2018_IoT_Botnet_Final_10_best_Testing.csv\")\n",
    "data_train = pd.read_csv(r\"C:\\VS code projects\\data_files\\UNSW_2018_IoT_Botnet_Final_10_best_Training.csv\")\n",
    "\n",
    "# Print the shapes to verify successful reading\n",
    "print(\"Training data shape:\", data_train.shape)\n",
    "print(\"Testing data shape:\", data_test.shape)\n"
   ]
  },
  {
   "cell_type": "code",
   "execution_count": 3,
   "metadata": {},
   "outputs": [
    {
     "name": "stdout",
     "output_type": "stream",
     "text": [
      "First 5 rows of Training Data:\n",
      "   pkSeqID proto            saddr  sport          daddr dport     seq  \\\n",
      "0  3142762   udp  192.168.100.150   6551  192.168.100.3    80  251984   \n",
      "1  2432264   tcp  192.168.100.150   5532  192.168.100.3    80  256724   \n",
      "2  1976315   tcp  192.168.100.147  27165  192.168.100.3    80   62921   \n",
      "3  1240757   udp  192.168.100.150  48719  192.168.100.3    80   99168   \n",
      "4  3257991   udp  192.168.100.147  22461  192.168.100.3    80  105063   \n",
      "\n",
      "     stddev  N_IN_Conn_P_SrcIP       min  state_number      mean  \\\n",
      "0  1.900363                100  0.000000             4  2.687519   \n",
      "1  0.078003                 38  3.856930             3  3.934927   \n",
      "2  0.268666                100  2.974100             3  3.341429   \n",
      "3  1.823185                 63  0.000000             4  3.222832   \n",
      "4  0.822418                100  2.979995             4  3.983222   \n",
      "\n",
      "   N_IN_Conn_P_DstIP  drate     srate       max  attack category subcategory  \n",
      "0                100    0.0  0.494549  4.031619       1     DDoS         UDP  \n",
      "1                100    0.0  0.256493  4.012924       1     DDoS         TCP  \n",
      "2                100    0.0  0.294880  3.609205       1     DDoS         TCP  \n",
      "3                 63    0.0  0.461435  4.942302       1      DoS         UDP  \n",
      "4                100    0.0  1.002999  4.994452       1     DDoS         UDP  \n",
      "\n",
      "First 5 rows of Testing Data:\n",
      "   pkSeqID proto            saddr  sport          daddr dport     seq  \\\n",
      "0   792371   udp  192.168.100.150  48516  192.168.100.3    80  175094   \n",
      "1  2056418   tcp  192.168.100.148  22267  192.168.100.3    80  143024   \n",
      "2  2795650   udp  192.168.100.149  28629  192.168.100.3    80  167033   \n",
      "3  2118009   tcp  192.168.100.148  42142  192.168.100.3    80  204615   \n",
      "4   303688   tcp  192.168.100.149   1645  192.168.100.5    80   40058   \n",
      "\n",
      "     stddev  N_IN_Conn_P_SrcIP       min  state_number      mean  \\\n",
      "0  0.226784                100  4.100436             4  4.457383   \n",
      "1  0.451998                100  3.439257             1  3.806172   \n",
      "2  1.931553                 73  0.000000             4  2.731204   \n",
      "3  0.428798                 56  3.271411             1  3.626428   \n",
      "4  2.058381                100  0.000000             3  1.188407   \n",
      "\n",
      "   N_IN_Conn_P_DstIP     drate     srate       max  attack category  \\\n",
      "0                100  0.000000  0.404711  4.719438       1      DoS   \n",
      "1                100  0.225077  0.401397  4.442930       1     DDoS   \n",
      "2                100  0.000000  0.407287  4.138455       1     DDoS   \n",
      "3                100  0.000000  0.343654  4.229700       1     DDoS   \n",
      "4                100  0.000000  0.135842  4.753628       1      DoS   \n",
      "\n",
      "  subcategory  \n",
      "0         UDP  \n",
      "1         TCP  \n",
      "2         UDP  \n",
      "3         TCP  \n",
      "4         TCP  \n"
     ]
    }
   ],
   "source": [
    "# Cell 2: Inspect the First Few Rows of the Data\n",
    "print(\"First 5 rows of Training Data:\")\n",
    "print(data_train.head())\n",
    "\n",
    "print(\"\\nFirst 5 rows of Testing Data:\")\n",
    "print(data_test.head())"
   ]
  },
  {
   "cell_type": "code",
   "execution_count": 4,
   "metadata": {},
   "outputs": [
    {
     "name": "stdout",
     "output_type": "stream",
     "text": [
      "Training Data Info:\n",
      "<class 'pandas.core.frame.DataFrame'>\n",
      "RangeIndex: 2934817 entries, 0 to 2934816\n",
      "Data columns (total 19 columns):\n",
      " #   Column             Dtype  \n",
      "---  ------             -----  \n",
      " 0   pkSeqID            int64  \n",
      " 1   proto              object \n",
      " 2   saddr              object \n",
      " 3   sport              object \n",
      " 4   daddr              object \n",
      " 5   dport              object \n",
      " 6   seq                int64  \n",
      " 7   stddev             float64\n",
      " 8   N_IN_Conn_P_SrcIP  int64  \n",
      " 9   min                float64\n",
      " 10  state_number       int64  \n",
      " 11  mean               float64\n",
      " 12  N_IN_Conn_P_DstIP  int64  \n",
      " 13  drate              float64\n",
      " 14  srate              float64\n",
      " 15  max                float64\n",
      " 16  attack             int64  \n",
      " 17  category           object \n",
      " 18  subcategory        object \n",
      "dtypes: float64(6), int64(6), object(7)\n",
      "memory usage: 425.4+ MB\n",
      "\n",
      "Testing Data Info:\n"
     ]
    },
    {
     "name": "stdout",
     "output_type": "stream",
     "text": [
      "<class 'pandas.core.frame.DataFrame'>\n",
      "RangeIndex: 733705 entries, 0 to 733704\n",
      "Data columns (total 19 columns):\n",
      " #   Column             Non-Null Count   Dtype  \n",
      "---  ------             --------------   -----  \n",
      " 0   pkSeqID            733705 non-null  int64  \n",
      " 1   proto              733705 non-null  object \n",
      " 2   saddr              733705 non-null  object \n",
      " 3   sport              733705 non-null  object \n",
      " 4   daddr              733705 non-null  object \n",
      " 5   dport              733705 non-null  object \n",
      " 6   seq                733705 non-null  int64  \n",
      " 7   stddev             733705 non-null  float64\n",
      " 8   N_IN_Conn_P_SrcIP  733705 non-null  int64  \n",
      " 9   min                733705 non-null  float64\n",
      " 10  state_number       733705 non-null  int64  \n",
      " 11  mean               733705 non-null  float64\n",
      " 12  N_IN_Conn_P_DstIP  733705 non-null  int64  \n",
      " 13  drate              733705 non-null  float64\n",
      " 14  srate              733705 non-null  float64\n",
      " 15  max                733705 non-null  float64\n",
      " 16  attack             733705 non-null  int64  \n",
      " 17  category           733705 non-null  object \n",
      " 18  subcategory        733705 non-null  object \n",
      "dtypes: float64(6), int64(6), object(7)\n",
      "memory usage: 106.4+ MB\n"
     ]
    }
   ],
   "source": [
    "# Cell 3: Data Information and Data Types\n",
    "print(\"Training Data Info:\")\n",
    "data_train.info()\n",
    "\n",
    "print(\"\\nTesting Data Info:\")\n",
    "data_test.info()"
   ]
  },
  {
   "cell_type": "code",
   "execution_count": 5,
   "metadata": {},
   "outputs": [
    {
     "name": "stdout",
     "output_type": "stream",
     "text": [
      "Missing values in Training Data:\n",
      "pkSeqID              0\n",
      "proto                0\n",
      "saddr                0\n",
      "sport                0\n",
      "daddr                0\n",
      "dport                0\n",
      "seq                  0\n",
      "stddev               0\n",
      "N_IN_Conn_P_SrcIP    0\n",
      "min                  0\n",
      "state_number         0\n",
      "mean                 0\n",
      "N_IN_Conn_P_DstIP    0\n",
      "drate                0\n",
      "srate                0\n",
      "max                  0\n",
      "attack               0\n",
      "category             0\n",
      "subcategory          0\n",
      "dtype: int64\n",
      "\n",
      "Missing values in Testing Data:\n",
      "pkSeqID              0\n",
      "proto                0\n",
      "saddr                0\n",
      "sport                0\n",
      "daddr                0\n",
      "dport                0\n",
      "seq                  0\n",
      "stddev               0\n",
      "N_IN_Conn_P_SrcIP    0\n",
      "min                  0\n",
      "state_number         0\n",
      "mean                 0\n",
      "N_IN_Conn_P_DstIP    0\n",
      "drate                0\n",
      "srate                0\n",
      "max                  0\n",
      "attack               0\n",
      "category             0\n",
      "subcategory          0\n",
      "dtype: int64\n",
      "\n",
      "Number of duplicate rows in Training Data: 0\n",
      "Number of duplicate rows in Testing Data: 0\n"
     ]
    }
   ],
   "source": [
    "# Cell 4: Check for Missing Values and Duplicates\n",
    "print(\"Missing values in Training Data:\")\n",
    "print(data_train.isnull().sum())\n",
    "\n",
    "print(\"\\nMissing values in Testing Data:\")\n",
    "print(data_test.isnull().sum())\n",
    "\n",
    "# Check for duplicate rows\n",
    "train_duplicates = data_train.duplicated().sum()\n",
    "test_duplicates = data_test.duplicated().sum()\n",
    "print(\"\\nNumber of duplicate rows in Training Data:\", train_duplicates)\n",
    "print(\"Number of duplicate rows in Testing Data:\", test_duplicates)"
   ]
  },
  {
   "cell_type": "code",
   "execution_count": 6,
   "metadata": {},
   "outputs": [
    {
     "name": "stdout",
     "output_type": "stream",
     "text": [
      "Statistical Summary of Training Data:\n",
      "            pkSeqID           seq        stddev  N_IN_Conn_P_SrcIP  \\\n",
      "count  2.934817e+06  2.934817e+06  2.934817e+06       2.934817e+06   \n",
      "mean   1.834209e+06  1.212973e+05  8.869639e-01       8.254997e+01   \n",
      "std    1.059058e+06  7.578700e+04  8.036391e-01       2.439019e+01   \n",
      "min    1.000000e+00  1.000000e+00  0.000000e+00       1.000000e+00   \n",
      "25%    9.171090e+05  5.484700e+04  2.999700e-02       6.900000e+01   \n",
      "50%    1.834316e+06  1.177370e+05  7.925750e-01       1.000000e+02   \n",
      "75%    2.751250e+06  1.848700e+05  1.745220e+00       1.000000e+02   \n",
      "max    3.668522e+06  2.622110e+05  2.496763e+00       1.000000e+02   \n",
      "\n",
      "                min  state_number          mean  N_IN_Conn_P_DstIP  \\\n",
      "count  2.934817e+06  2.934817e+06  2.934817e+06       2.934817e+06   \n",
      "mean   1.017208e+00  3.134219e+00  2.230471e+00       9.245766e+01   \n",
      "std    1.483551e+00  1.187107e+00  1.517766e+00       1.816651e+01   \n",
      "min    0.000000e+00  1.000000e+00  0.000000e+00       1.000000e+00   \n",
      "25%    0.000000e+00  3.000000e+00  1.819340e-01       1.000000e+02   \n",
      "50%    0.000000e+00  4.000000e+00  2.689973e+00       1.000000e+02   \n",
      "75%    2.147949e+00  4.000000e+00  3.565061e+00       1.000000e+02   \n",
      "max    4.980471e+00  1.100000e+01  4.981882e+00       1.000000e+02   \n",
      "\n",
      "              drate         srate           max        attack  \n",
      "count  2.934817e+06  2.934817e+06  2.934817e+06  2.934817e+06  \n",
      "mean   4.303064e-01  3.128290e+00  3.019269e+00  9.998739e-01  \n",
      "std    5.623304e+01  7.845494e+02  1.860915e+00  1.122750e-02  \n",
      "min    0.000000e+00  0.000000e+00  0.000000e+00  0.000000e+00  \n",
      "25%    0.000000e+00  1.558450e-01  2.804170e-01  1.000000e+00  \n",
      "50%    0.000000e+00  2.837800e-01  4.008429e+00  1.000000e+00  \n",
      "75%    0.000000e+00  4.880000e-01  4.292426e+00  1.000000e+00  \n",
      "max    5.882353e+04  1.000000e+06  4.999999e+00  1.000000e+00  \n",
      "\n",
      "Statistical Summary of Testing Data:\n",
      "            pkSeqID            seq         stddev  N_IN_Conn_P_SrcIP  \\\n",
      "count  7.337050e+05  733705.000000  733705.000000      733705.000000   \n",
      "mean   1.834472e+06  121412.819892       0.887894          82.492551   \n",
      "std    1.058826e+06   75823.398840       0.804013          24.426145   \n",
      "min    2.000000e+00       1.000000       0.000000           1.000000   \n",
      "25%    9.172220e+05   54993.000000       0.030132          69.000000   \n",
      "50%    1.834043e+06  117896.000000       0.795481         100.000000   \n",
      "75%    2.751959e+06  185157.000000       1.745595         100.000000   \n",
      "max    3.668507e+06  262212.000000       2.496758         100.000000   \n",
      "\n",
      "                 min   state_number           mean  N_IN_Conn_P_DstIP  \\\n",
      "count  733705.000000  733705.000000  733705.000000      733705.000000   \n",
      "mean        1.018868       3.135073       2.233429          92.427763   \n",
      "std         1.484235       1.186427       1.517572          18.216076   \n",
      "min         0.000000       1.000000       0.000000           1.000000   \n",
      "25%         0.000000       3.000000       0.182193         100.000000   \n",
      "50%         0.000000       4.000000       2.691715         100.000000   \n",
      "75%         2.163444       4.000000       3.566569         100.000000   \n",
      "max         4.980470      11.000000       4.981785         100.000000   \n",
      "\n",
      "               drate          srate            max         attack  \n",
      "count  733705.000000  733705.000000  733705.000000  733705.000000  \n",
      "mean        0.506298       2.262398       3.023000       0.999854  \n",
      "std        74.330175     403.408092       1.860725       0.012075  \n",
      "min         0.000000       0.000000       0.000000       0.000000  \n",
      "25%         0.000000       0.156231       0.281688       1.000000  \n",
      "50%         0.000000       0.283784       4.011386       1.000000  \n",
      "75%         0.000000       0.488849       4.296505       1.000000  \n",
      "max     58823.527344  333333.312500       4.999999       1.000000  \n"
     ]
    }
   ],
   "source": [
    "# Cell 5: Statistical Summary for Numerical Features\n",
    "print(\"Statistical Summary of Training Data:\")\n",
    "print(data_train.describe())\n",
    "\n",
    "print(\"\\nStatistical Summary of Testing Data:\")\n",
    "print(data_test.describe())"
   ]
  },
  {
   "cell_type": "code",
   "execution_count": 7,
   "metadata": {},
   "outputs": [
    {
     "name": "stdout",
     "output_type": "stream",
     "text": [
      "Target Distribution in Training Data:\n",
      "category\n",
      "DDoS              1541315\n",
      "DoS               1320148\n",
      "Reconnaissance      72919\n",
      "Normal                370\n",
      "Theft                  65\n",
      "Name: count, dtype: int64\n",
      "\n",
      "Target Distribution in Testing Data:\n",
      "category\n",
      "DDoS              385309\n",
      "DoS               330112\n",
      "Reconnaissance     18163\n",
      "Normal               107\n",
      "Theft                 14\n",
      "Name: count, dtype: int64\n"
     ]
    }
   ],
   "source": [
    "# Cell 6: Analyze Target Variable Distribution\n",
    "target_column = 'category'\n",
    "\n",
    "print(\"Target Distribution in Training Data:\")\n",
    "print(data_train[target_column].value_counts())\n",
    "\n",
    "print(\"\\nTarget Distribution in Testing Data:\")\n",
    "print(data_test[target_column].value_counts())"
   ]
  },
  {
   "cell_type": "code",
   "execution_count": 8,
   "metadata": {},
   "outputs": [
    {
     "name": "stderr",
     "output_type": "stream",
     "text": [
      "C:\\Users\\Spencer Kanjera\\AppData\\Local\\Temp\\ipykernel_21336\\3174060453.py:17: FutureWarning: \n",
      "\n",
      "Passing `palette` without assigning `hue` is deprecated and will be removed in v0.14.0. Assign the `x` variable to `hue` and set `legend=False` for the same effect.\n",
      "\n",
      "  sns.barplot(x=correlation_with_target.index, y=correlation_with_target.values, palette=\"viridis\")\n"
     ]
    },
    {
     "data": {
      "image/png": "[encoded data removed]",
      "text/plain": [
       "<Figure size 1000x600 with 1 Axes>"
      ]
     },
     "metadata": {},
     "output_type": "display_data"
    },
    {
     "name": "stdout",
     "output_type": "stream",
     "text": [
      "Correlation Coefficients:\n",
      "N_IN_Conn_P_DstIP    0.052049\n",
      "N_IN_Conn_P_SrcIP    0.028637\n",
      "seq                  0.016659\n",
      "max                  0.015015\n",
      "mean                 0.012848\n",
      "stddev               0.011872\n",
      "min                  0.005226\n",
      "state_number         0.002701\n",
      "drate               -0.002730\n",
      "pkSeqID             -0.018480\n",
      "srate               -0.096710\n",
      "Name: attack, dtype: float64\n"
     ]
    }
   ],
   "source": [
    "#  Cell 7: Visualize Target Variable Distribution\n",
    "\n",
    "target_column = 'attack'\n",
    "\n",
    "# Identify all numeric features and remove the target from this list\n",
    "numeric_features = data_train.select_dtypes(include=[np.number]).columns.tolist()\n",
    "if target_column in numeric_features:\n",
    "    numeric_features.remove(target_column)\n",
    "\n",
    "# Compute the correlations between each numeric feature and the target\n",
    "# This creates a correlation matrix that includes the target, then drops the target itself.\n",
    "correlation_with_target = data_train[numeric_features + [target_column]].corr()[target_column].drop(target_column)\n",
    "correlation_with_target = correlation_with_target.sort_values(ascending=False)\n",
    "\n",
    "# Plot the correlations as a bar plot\n",
    "plt.figure(figsize=(10, 6))\n",
    "sns.barplot(x=correlation_with_target.index, y=correlation_with_target.values, palette=\"viridis\")\n",
    "plt.ylabel(f\"Correlation with {target_column}\")\n",
    "plt.xlabel(\"Features\")\n",
    "plt.title(f\"Correlation of Numerical Features with {target_column}\")\n",
    "plt.xticks(rotation=45, ha=\"right\")\n",
    "plt.tight_layout()\n",
    "plt.show()\n",
    "\n",
    "print(\"Correlation Coefficients:\")\n",
    "print(correlation_with_target)"
   ]
  }
 ],
 "metadata": {
  "kernelspec": {
   "display_name": "Python 3",
   "language": "python",
   "name": "python3"
  },
  "language_info": {
   "codemirror_mode": {
    "name": "ipython",
    "version": 3
   },
   "file_extension": ".py",
   "mimetype": "text/x-python",
   "name": "python",
   "nbconvert_exporter": "python",
   "pygments_lexer": "ipython3",
   "version": "3.13.2"
  }
 },
 "nbformat": 4,
 "nbformat_minor": 2
}
