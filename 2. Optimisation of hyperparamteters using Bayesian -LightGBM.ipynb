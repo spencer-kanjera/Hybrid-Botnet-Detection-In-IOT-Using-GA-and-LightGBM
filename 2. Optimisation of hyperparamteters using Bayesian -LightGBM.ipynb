{
 "cells": [
  {
   "cell_type": "code",
   "execution_count": null,
   "id": "a31b4d2d",
   "metadata": {},
   "outputs": [],
   "source": [
    "import optuna\n",
    "import pandas as pd\n",
    "import numpy as np\n",
    "import lightgbm as lgb\n",
    "from sklearn.metrics import accuracy_score\n",
    "from sklearn.model_selection import train_test_split\n",
    "from sklearn.preprocessing import LabelEncoder\n",
    "from sklearn.compose import ColumnTransformer\n",
    "from sklearn.preprocessing import StandardScaler, OneHotEncoder\n",
    "from imblearn.over_sampling import SMOTE"
   ]
  },
  {
   "cell_type": "code",
   "execution_count": 4,
   "id": "c5f0fa2c",
   "metadata": {},
   "outputs": [
    {
     "name": "stdout",
     "output_type": "stream",
     "text": [
      "Training and Testing Datasets Prepared!\n"
     ]
    }
   ],
   "source": [
    "# Load training and testing datasets\n",
    "data_train = pd.read_csv(r\"C:\\VS code projects\\data_files\\UNSW_2018_IoT_Botnet_Final_10_best_Training.csv\")\n",
    "data_test = pd.read_csv(r\"C:\\VS code projects\\data_files\\UNSW_2018_IoT_Botnet_Final_10_best_Testing.csv\")\n",
    "\n",
    "# Define features (X) and target variable (y) for training and testing sets\n",
    "X_train = data_train.drop(['category', 'subcategory', 'proto', 'saddr', 'sport', 'daddr', 'dport', 'attack'], axis=1)\n",
    "y_train = data_train['attack']\n",
    "\n",
    "X_test = data_test.drop(['category', 'subcategory', 'proto', 'saddr', 'sport', 'daddr', 'dport', 'attack'], axis=1)\n",
    "y_test = data_test['attack']\n",
    "\n",
    "print(\"Training and Testing Datasets Prepared!\")"
   ]
  },
  {
   "cell_type": "code",
   "execution_count": 5,
   "id": "7cb3bb31",
   "metadata": {},
   "outputs": [
    {
     "name": "stdout",
     "output_type": "stream",
     "text": [
      "Original y_train distribution:\n",
      "attack\n",
      "1    2934447\n",
      "0        370\n",
      "Name: count, dtype: int64\n",
      "Resampled y_train distribution:\n",
      "attack\n",
      "1    2934447\n",
      "0    2934447\n",
      "Name: count, dtype: int64\n"
     ]
    }
   ],
   "source": [
    "# Apply SMOTE to balance the class distribution in the training dataset\n",
    "smote = SMOTE(random_state=42)\n",
    "X_train_resampled, y_train_resampled = smote.fit_resample(X_train, y_train)\n",
    "\n",
    "# Display the class distribution after resampling\n",
    "print(f\"Original y_train distribution:\\n{y_train.value_counts()}\")\n",
    "print(f\"Resampled y_train distribution:\\n{y_train_resampled.value_counts()}\")"
   ]
  },
  {
   "cell_type": "code",
   "execution_count": 6,
   "id": "7c8c10ad",
   "metadata": {},
   "outputs": [],
   "source": [
    "def objective(trial):\n",
    "    \"\"\"\n",
    "    Objective function for Optuna's Bayesian optimization.\n",
    "    Args:\n",
    "        trial: Optuna trial object for sampling hyperparameters.\n",
    "    Returns:\n",
    "        Accuracy score on the test dataset.\n",
    "    \"\"\"\n",
    "    # Define hyperparameter search space\n",
    "    param_grid = {\n",
    "        'objective': 'binary',  # Binary classification\n",
    "        'metric': 'binary_logloss',  # Loss metric\n",
    "        'verbosity': -1,  # Suppress training logs\n",
    "        'boosting_type': 'gbdt',  # Gradient Boosting Decision Tree\n",
    "        'random_state': 42,  # Ensure reproducibility\n",
    "        'learning_rate': trial.suggest_float('learning_rate', 0.01, 0.3, log=True),\n",
    "        'num_leaves': trial.suggest_int('num_leaves', 20, 150),\n",
    "        'max_depth': trial.suggest_int('max_depth', 3, 15),\n",
    "        'min_child_samples': trial.suggest_int('min_child_samples', 10, 100),\n",
    "        'subsample': trial.suggest_float('subsample', 0.5, 1.0),\n",
    "        'colsample_bytree': trial.suggest_float('colsample_bytree', 0.5, 1.0),\n",
    "        'reg_alpha': trial.suggest_float('reg_alpha', 1e-8, 10.0, log=True),\n",
    "        'reg_lambda': trial.suggest_float('reg_lambda', 1e-8, 10.0, log=True),\n",
    "        'n_estimators': trial.suggest_int('n_estimators', 50, 500),\n",
    "        'feature_fraction': trial.suggest_float('feature_fraction', 0.4, 1.0),\n",
    "        'bagging_fraction': trial.suggest_float('bagging_fraction', 0.4, 1.0),\n",
    "        'min_child_weight': trial.suggest_int('min_child_weight', 5, 50)\n",
    "    }\n",
    "\n",
    "    # Train LightGBM model using hyperparameters sampled by Optuna\n",
    "    model = lgb.LGBMClassifier(**param_grid)\n",
    "    model.fit(\n",
    "        X_train_resampled,\n",
    "        y_train_resampled,\n",
    "        eval_set=[(X_test, y_test)],\n",
    "        eval_metric='logloss',\n",
    "        callbacks=[lgb.early_stopping(stopping_rounds=50, verbose=False)]  # Early stopping\n",
    "    )\n",
    "\n",
    "    # Predict on the testing dataset\n",
    "    y_pred = model.predict(X_test)\n",
    "    accuracy = accuracy_score(y_test, y_pred)\n",
    "    return accuracy"
   ]
  },
  {
   "cell_type": "code",
   "execution_count": 7,
   "id": "72ff56b9",
   "metadata": {},
   "outputs": [
    {
     "name": "stderr",
     "output_type": "stream",
     "text": [
      "[I 2025-04-28 13:32:07,646] A new study created in memory with name: lightgbm_training_testing\n",
      "[I 2025-04-28 13:32:39,437] Trial 0 finished with value: 1.0 and parameters: {'learning_rate': 0.1418693712348676, 'num_leaves': 93, 'max_depth': 12, 'min_child_samples': 75, 'subsample': 0.7884650721308273, 'colsample_bytree': 0.8596671965546114, 'reg_alpha': 0.02109289810592904, 'reg_lambda': 1.6552239859588088e-06, 'n_estimators': 209, 'feature_fraction': 0.8271006742871947, 'bagging_fraction': 0.761809685719689, 'min_child_weight': 43}. Best is trial 0 with value: 1.0.\n",
      "[I 2025-04-28 13:32:53,635] Trial 1 finished with value: 1.0 and parameters: {'learning_rate': 0.25727120449686935, 'num_leaves': 130, 'max_depth': 15, 'min_child_samples': 22, 'subsample': 0.6105637551311074, 'colsample_bytree': 0.9459719485734974, 'reg_alpha': 0.03986722290052597, 'reg_lambda': 2.563269805806106e-05, 'n_estimators': 409, 'feature_fraction': 0.5675166985342001, 'bagging_fraction': 0.9062709329646854, 'min_child_weight': 45}. Best is trial 0 with value: 1.0.\n",
      "[I 2025-04-28 13:33:24,070] Trial 2 finished with value: 1.0 and parameters: {'learning_rate': 0.13378324236589417, 'num_leaves': 81, 'max_depth': 13, 'min_child_samples': 72, 'subsample': 0.9483724221699705, 'colsample_bytree': 0.9378287690657808, 'reg_alpha': 3.8595363733876965e-08, 'reg_lambda': 3.180627906804156e-08, 'n_estimators': 500, 'feature_fraction': 0.768746926524462, 'bagging_fraction': 0.87400082811002, 'min_child_weight': 7}. Best is trial 0 with value: 1.0.\n",
      "[I 2025-04-28 13:34:11,402] Trial 3 finished with value: 1.0 and parameters: {'learning_rate': 0.05873458053146109, 'num_leaves': 143, 'max_depth': 14, 'min_child_samples': 69, 'subsample': 0.8329423746361546, 'colsample_bytree': 0.5251411767024009, 'reg_alpha': 8.442904791507283, 'reg_lambda': 0.005340174065207982, 'n_estimators': 341, 'feature_fraction': 0.61057833657477, 'bagging_fraction': 0.7438409011301401, 'min_child_weight': 16}. Best is trial 0 with value: 1.0.\n",
      "[I 2025-04-28 13:34:38,303] Trial 4 finished with value: 1.0 and parameters: {'learning_rate': 0.09300381700666123, 'num_leaves': 124, 'max_depth': 7, 'min_child_samples': 13, 'subsample': 0.6816196680897346, 'colsample_bytree': 0.5024960108686218, 'reg_alpha': 4.1155214644400854e-05, 'reg_lambda': 0.8368632721534747, 'n_estimators': 341, 'feature_fraction': 0.7502759220228847, 'bagging_fraction': 0.9598110526897075, 'min_child_weight': 23}. Best is trial 0 with value: 1.0.\n",
      "[I 2025-04-28 13:35:12,740] Trial 5 finished with value: 1.0 and parameters: {'learning_rate': 0.06822958728823633, 'num_leaves': 133, 'max_depth': 8, 'min_child_samples': 72, 'subsample': 0.9751538088354921, 'colsample_bytree': 0.7249231395270685, 'reg_alpha': 0.008163427570995273, 'reg_lambda': 2.816729765255582e-06, 'n_estimators': 359, 'feature_fraction': 0.70002185803554, 'bagging_fraction': 0.92178581281573, 'min_child_weight': 19}. Best is trial 0 with value: 1.0.\n",
      "[I 2025-04-28 13:35:37,767] Trial 6 finished with value: 1.0 and parameters: {'learning_rate': 0.01956128879949558, 'num_leaves': 80, 'max_depth': 10, 'min_child_samples': 60, 'subsample': 0.6610544921645527, 'colsample_bytree': 0.6428482486581032, 'reg_alpha': 0.9546152626519631, 'reg_lambda': 0.007072566173132111, 'n_estimators': 151, 'feature_fraction': 0.6021598719269229, 'bagging_fraction': 0.8035505665220075, 'min_child_weight': 18}. Best is trial 0 with value: 1.0.\n",
      "[I 2025-04-28 13:35:54,906] Trial 7 finished with value: 1.0 and parameters: {'learning_rate': 0.034697441285595904, 'num_leaves': 81, 'max_depth': 8, 'min_child_samples': 86, 'subsample': 0.7667252752108007, 'colsample_bytree': 0.8819725443654662, 'reg_alpha': 0.0006183934648282178, 'reg_lambda': 8.25106045650861e-06, 'n_estimators': 59, 'feature_fraction': 0.4231476348891377, 'bagging_fraction': 0.9972379131752664, 'min_child_weight': 29}. Best is trial 0 with value: 1.0.\n",
      "[I 2025-04-28 13:37:00,297] Trial 8 finished with value: 1.0 and parameters: {'learning_rate': 0.030351450441910514, 'num_leaves': 91, 'max_depth': 5, 'min_child_samples': 32, 'subsample': 0.7157338380962293, 'colsample_bytree': 0.8791340016134304, 'reg_alpha': 1.6558886648647072e-06, 'reg_lambda': 1.2463178746315377e-06, 'n_estimators': 436, 'feature_fraction': 0.9533159145371677, 'bagging_fraction': 0.4391362220360147, 'min_child_weight': 6}. Best is trial 0 with value: 1.0.\n",
      "[I 2025-04-28 13:37:51,828] Trial 9 finished with value: 1.0 and parameters: {'learning_rate': 0.026999622562637136, 'num_leaves': 62, 'max_depth': 14, 'min_child_samples': 33, 'subsample': 0.6510568286307382, 'colsample_bytree': 0.701258980685693, 'reg_alpha': 0.00039169558455974, 'reg_lambda': 2.999208037925357e-07, 'n_estimators': 351, 'feature_fraction': 0.9323215103283105, 'bagging_fraction': 0.41766186631438346, 'min_child_weight': 50}. Best is trial 0 with value: 1.0.\n",
      "[I 2025-04-28 13:38:22,350] Trial 10 finished with value: 1.0 and parameters: {'learning_rate': 0.011662104107514636, 'num_leaves': 38, 'max_depth': 11, 'min_child_samples': 95, 'subsample': 0.5080129621980926, 'colsample_bytree': 0.8111451706643502, 'reg_alpha': 0.059352959694235485, 'reg_lambda': 0.00042580719564716085, 'n_estimators': 210, 'feature_fraction': 0.8396483827162119, 'bagging_fraction': 0.5925379907078591, 'min_child_weight': 36}. Best is trial 0 with value: 1.0.\n",
      "[I 2025-04-28 13:38:40,871] Trial 11 finished with value: 1.0 and parameters: {'learning_rate': 0.2686167162111435, 'num_leaves': 112, 'max_depth': 15, 'min_child_samples': 40, 'subsample': 0.5414306143293011, 'colsample_bytree': 0.9977300811197121, 'reg_alpha': 0.054100021292727896, 'reg_lambda': 6.808019376345191e-05, 'n_estimators': 248, 'feature_fraction': 0.5086431335916181, 'bagging_fraction': 0.6749855690129134, 'min_child_weight': 47}. Best is trial 0 with value: 1.0.\n",
      "[I 2025-04-28 13:38:56,656] Trial 12 finished with value: 1.0 and parameters: {'learning_rate': 0.23618648014706492, 'num_leaves': 109, 'max_depth': 12, 'min_child_samples': 13, 'subsample': 0.8588555734229202, 'colsample_bytree': 0.8107408528095049, 'reg_alpha': 0.006432358644758429, 'reg_lambda': 9.436869968292784e-05, 'n_estimators': 163, 'feature_fraction': 0.6073058025039098, 'bagging_fraction': 0.8147864141415697, 'min_child_weight': 39}. Best is trial 0 with value: 1.0.\n",
      "[I 2025-04-28 13:39:13,675] Trial 13 finished with value: 1.0 and parameters: {'learning_rate': 0.15757708746314775, 'num_leaves': 53, 'max_depth': 3, 'min_child_samples': 49, 'subsample': 0.6011149014075261, 'colsample_bytree': 0.9796463338886958, 'reg_alpha': 0.28015784745805256, 'reg_lambda': 5.230873022033901e-08, 'n_estimators': 279, 'feature_fraction': 0.8472112486870443, 'bagging_fraction': 0.6447833973938857, 'min_child_weight': 41}. Best is trial 0 with value: 1.0.\n",
      "[I 2025-04-28 13:39:50,754] Trial 14 finished with value: 1.0 and parameters: {'learning_rate': 0.16383101471914213, 'num_leaves': 148, 'max_depth': 15, 'min_child_samples': 87, 'subsample': 0.7778540679835496, 'colsample_bytree': 0.8907936547869948, 'reg_alpha': 1.1053780055150792e-05, 'reg_lambda': 3.8042223787373244, 'n_estimators': 413, 'feature_fraction': 0.5066058715360429, 'bagging_fraction': 0.8641089658732946, 'min_child_weight': 33}. Best is trial 0 with value: 1.0.\n",
      "[I 2025-04-28 13:40:05,780] Trial 15 finished with value: 1.0 and parameters: {'learning_rate': 0.09876453773146476, 'num_leaves': 104, 'max_depth': 12, 'min_child_samples': 24, 'subsample': 0.5895986717145568, 'colsample_bytree': 0.81016419683466, 'reg_alpha': 0.0026810792876580695, 'reg_lambda': 0.002460930416018472, 'n_estimators': 75, 'feature_fraction': 0.8413501589181578, 'bagging_fraction': 0.5619832906027956, 'min_child_weight': 44}. Best is trial 0 with value: 1.0.\n",
      "[I 2025-04-28 13:40:40,912] Trial 16 finished with value: 1.0 and parameters: {'learning_rate': 0.26128297698215563, 'num_leaves': 22, 'max_depth': 11, 'min_child_samples': 54, 'subsample': 0.8746912765642716, 'colsample_bytree': 0.9296381887792483, 'reg_alpha': 3.302009190235956, 'reg_lambda': 3.206930927290711e-05, 'n_estimators': 285, 'feature_fraction': 0.519959321188001, 'bagging_fraction': 0.7413031016966345, 'min_child_weight': 33}. Best is trial 0 with value: 1.0.\n",
      "[I 2025-04-28 13:40:59,609] Trial 17 finished with value: 1.0 and parameters: {'learning_rate': 0.1801490888597165, 'num_leaves': 125, 'max_depth': 13, 'min_child_samples': 45, 'subsample': 0.7860487307172578, 'colsample_bytree': 0.8443482709537221, 'reg_alpha': 0.08552811459577142, 'reg_lambda': 3.8070014102521416e-07, 'n_estimators': 147, 'feature_fraction': 0.6720332651527696, 'bagging_fraction': 0.8076056905063969, 'min_child_weight': 50}. Best is trial 0 with value: 1.0.\n",
      "[I 2025-04-28 13:41:43,029] Trial 18 finished with value: 0.999998637054402 and parameters: {'learning_rate': 0.10104808344206535, 'num_leaves': 69, 'max_depth': 10, 'min_child_samples': 61, 'subsample': 0.6025193264900022, 'colsample_bytree': 0.7662641791738276, 'reg_alpha': 4.956821252189779e-05, 'reg_lambda': 1.2156083352009725e-08, 'n_estimators': 493, 'feature_fraction': 0.42301148472755545, 'bagging_fraction': 0.9133216020070687, 'min_child_weight': 42}. Best is trial 0 with value: 1.0.\n",
      "[I 2025-04-28 13:41:53,548] Trial 19 finished with value: 1.0 and parameters: {'learning_rate': 0.29562589015447854, 'num_leaves': 99, 'max_depth': 15, 'min_child_samples': 100, 'subsample': 0.7192750714552104, 'colsample_bytree': 0.9453988633223717, 'reg_alpha': 0.01360301072663182, 'reg_lambda': 0.10658536299856215, 'n_estimators': 214, 'feature_fraction': 0.9894765596119507, 'bagging_fraction': 0.7311975097950305, 'min_child_weight': 27}. Best is trial 0 with value: 1.0.\n",
      "[I 2025-04-28 13:42:33,338] Trial 20 finished with value: 1.0 and parameters: {'learning_rate': 0.043634864810787585, 'num_leaves': 121, 'max_depth': 13, 'min_child_samples': 81, 'subsample': 0.8827203583939683, 'colsample_bytree': 0.6306242607810438, 'reg_alpha': 0.8760998522736932, 'reg_lambda': 9.836055661448102e-06, 'n_estimators': 406, 'feature_fraction': 0.7796130854715461, 'bagging_fraction': 0.5628639230289565, 'min_child_weight': 37}. Best is trial 0 with value: 1.0.\n",
      "[I 2025-04-28 13:43:00,263] Trial 21 finished with value: 1.0 and parameters: {'learning_rate': 0.13976488713235669, 'num_leaves': 87, 'max_depth': 13, 'min_child_samples': 73, 'subsample': 0.9991959309796296, 'colsample_bytree': 0.931856890589627, 'reg_alpha': 2.027793892441353e-08, 'reg_lambda': 6.33546976138428e-08, 'n_estimators': 474, 'feature_fraction': 0.7620279637643351, 'bagging_fraction': 0.8770511721371141, 'min_child_weight': 6}. Best is trial 0 with value: 1.0.\n",
      "[I 2025-04-28 13:43:24,695] Trial 22 finished with value: 1.0 and parameters: {'learning_rate': 0.12203551008130126, 'num_leaves': 74, 'max_depth': 14, 'min_child_samples': 76, 'subsample': 0.9125747553810932, 'colsample_bytree': 0.9558500373647832, 'reg_alpha': 1.0134933556146674e-08, 'reg_lambda': 3.5255907833080334e-07, 'n_estimators': 456, 'feature_fraction': 0.8825436180588726, 'bagging_fraction': 0.8602264680400626, 'min_child_weight': 13}. Best is trial 0 with value: 1.0.\n",
      "[I 2025-04-28 13:43:41,833] Trial 23 finished with value: 1.0 and parameters: {'learning_rate': 0.20531095691019563, 'num_leaves': 54, 'max_depth': 12, 'min_child_samples': 67, 'subsample': 0.9405543968475037, 'colsample_bytree': 0.9046020059568767, 'reg_alpha': 1.1168355073225713e-07, 'reg_lambda': 1.0115338536680841e-08, 'n_estimators': 499, 'feature_fraction': 0.7071721196660407, 'bagging_fraction': 0.7863841514912646, 'min_child_weight': 45}. Best is trial 0 with value: 1.0.\n",
      "[I 2025-04-28 13:44:16,161] Trial 24 finished with value: 1.0 and parameters: {'learning_rate': 0.07666280281126665, 'num_leaves': 100, 'max_depth': 10, 'min_child_samples': 62, 'subsample': 0.835842254935806, 'colsample_bytree': 0.8538315983176125, 'reg_alpha': 2.5334594983381464e-06, 'reg_lambda': 1.8723099000240714e-06, 'n_estimators': 415, 'feature_fraction': 0.7834580214197507, 'bagging_fraction': 0.9290035402571376, 'min_child_weight': 10}. Best is trial 0 with value: 1.0.\n",
      "[I 2025-04-28 13:44:42,720] Trial 25 finished with value: 1.0 and parameters: {'learning_rate': 0.12339922193351062, 'num_leaves': 92, 'max_depth': 14, 'min_child_samples': 81, 'subsample': 0.8164576857013333, 'colsample_bytree': 0.9685292522007649, 'reg_alpha': 0.0010751884694788745, 'reg_lambda': 1.204454911499241e-07, 'n_estimators': 303, 'feature_fraction': 0.6568343161620518, 'bagging_fraction': 0.8527342423772403, 'min_child_weight': 23}. Best is trial 0 with value: 1.0.\n",
      "[I 2025-04-28 13:45:04,190] Trial 26 finished with value: 1.0 and parameters: {'learning_rate': 0.20169310516799688, 'num_leaves': 139, 'max_depth': 11, 'min_child_samples': 22, 'subsample': 0.726910088128894, 'colsample_bytree': 0.9154380138513106, 'reg_alpha': 8.483366715031632e-08, 'reg_lambda': 0.0004977128334482409, 'n_estimators': 384, 'feature_fraction': 0.5603465868177575, 'bagging_fraction': 0.774552984105081, 'min_child_weight': 32}. Best is trial 0 with value: 1.0.\n",
      "[I 2025-04-28 13:45:18,797] Trial 27 finished with value: 1.0 and parameters: {'learning_rate': 0.20693947979800506, 'num_leaves': 41, 'max_depth': 13, 'min_child_samples': 54, 'subsample': 0.9274905856635333, 'colsample_bytree': 0.8522825251907236, 'reg_alpha': 7.382019617450173e-07, 'reg_lambda': 7.935640368086063e-06, 'n_estimators': 233, 'feature_fraction': 0.898503732958973, 'bagging_fraction': 0.9668563111664165, 'min_child_weight': 47}. Best is trial 0 with value: 1.0.\n",
      "[I 2025-04-28 13:45:34,857] Trial 28 finished with value: 1.0 and parameters: {'learning_rate': 0.12152541176078581, 'num_leaves': 68, 'max_depth': 15, 'min_child_samples': 89, 'subsample': 0.5625163486552377, 'colsample_bytree': 0.7635192420336071, 'reg_alpha': 0.00013686196307672566, 'reg_lambda': 9.353818517592723e-07, 'n_estimators': 100, 'feature_fraction': 0.8085968609444086, 'bagging_fraction': 0.7008167280813287, 'min_child_weight': 38}. Best is trial 0 with value: 1.0.\n",
      "[I 2025-04-28 13:46:31,648] Trial 29 finished with value: 1.0 and parameters: {'learning_rate': 0.05815742302879681, 'num_leaves': 118, 'max_depth': 12, 'min_child_samples': 66, 'subsample': 0.8235480239700694, 'colsample_bytree': 0.9872091151286783, 'reg_alpha': 0.019744081991579388, 'reg_lambda': 3.329113114446694e-08, 'n_estimators': 325, 'feature_fraction': 0.7319153640232914, 'bagging_fraction': 0.8819804925186925, 'min_child_weight': 13}. Best is trial 0 with value: 1.0.\n",
      "[I 2025-04-28 13:47:23,449] Trial 30 finished with value: 1.0 and parameters: {'learning_rate': 0.07956305093763444, 'num_leaves': 134, 'max_depth': 14, 'min_child_samples': 78, 'subsample': 0.6864497635422053, 'colsample_bytree': 0.8347962739098806, 'reg_alpha': 0.28001994806286123, 'reg_lambda': 0.0049579275997590965, 'n_estimators': 453, 'feature_fraction': 0.6486592050465453, 'bagging_fraction': 0.8353533856687548, 'min_child_weight': 24}. Best is trial 0 with value: 1.0.\n",
      "[I 2025-04-28 13:48:43,695] Trial 31 finished with value: 1.0 and parameters: {'learning_rate': 0.048939387508226614, 'num_leaves': 146, 'max_depth': 14, 'min_child_samples': 69, 'subsample': 0.8037757366309269, 'colsample_bytree': 0.5475037134606207, 'reg_alpha': 6.212110693887476, 'reg_lambda': 0.06356528426481896, 'n_estimators': 375, 'feature_fraction': 0.6066888592702363, 'bagging_fraction': 0.7584671162643706, 'min_child_weight': 18}. Best is trial 0 with value: 1.0.\n",
      "[I 2025-04-28 13:50:03,679] Trial 32 finished with value: 1.0 and parameters: {'learning_rate': 0.08809563822672481, 'num_leaves': 129, 'max_depth': 6, 'min_child_samples': 72, 'subsample': 0.7476827248648625, 'colsample_bytree': 0.5773453805219415, 'reg_alpha': 1.4595607170379297, 'reg_lambda': 0.03880148207570076, 'n_estimators': 326, 'feature_fraction': 0.5505898839233412, 'bagging_fraction': 0.9198270598992884, 'min_child_weight': 9}. Best is trial 0 with value: 1.0.\n",
      "[I 2025-04-28 13:51:03,954] Trial 33 finished with value: 1.0 and parameters: {'learning_rate': 0.06641339141226636, 'num_leaves': 138, 'max_depth': 13, 'min_child_samples': 59, 'subsample': 0.8966319576008537, 'colsample_bytree': 0.6809114564526609, 'reg_alpha': 0.20251421047491822, 'reg_lambda': 0.0014238524367514356, 'n_estimators': 383, 'feature_fraction': 0.7310105781645263, 'bagging_fraction': 0.7065812481355271, 'min_child_weight': 13}. Best is trial 0 with value: 1.0.\n",
      "[I 2025-04-28 13:52:15,279] Trial 34 finished with value: 0.999998637054402 and parameters: {'learning_rate': 0.01448301517193961, 'num_leaves': 116, 'max_depth': 9, 'min_child_samples': 10, 'subsample': 0.9623128849299106, 'colsample_bytree': 0.5072776992815692, 'reg_alpha': 8.873504607493498, 'reg_lambda': 0.012281332472147116, 'n_estimators': 193, 'feature_fraction': 0.5699820857445559, 'bagging_fraction': 0.6305661106807456, 'min_child_weight': 16}. Best is trial 0 with value: 1.0.\n",
      "[I 2025-04-28 13:53:25,668] Trial 35 finished with value: 0.999998637054402 and parameters: {'learning_rate': 0.03830184944816476, 'num_leaves': 150, 'max_depth': 15, 'min_child_samples': 82, 'subsample': 0.8415335304905982, 'colsample_bytree': 0.7407806895096988, 'reg_alpha': 0.0032646223206079295, 'reg_lambda': 0.373131443560561, 'n_estimators': 251, 'feature_fraction': 0.453730935304003, 'bagging_fraction': 0.9927247574080438, 'min_child_weight': 21}. Best is trial 0 with value: 1.0.\n",
      "[I 2025-04-28 13:55:10,618] Trial 36 finished with value: 1.0 and parameters: {'learning_rate': 0.02696370063823733, 'num_leaves': 141, 'max_depth': 9, 'min_child_samples': 92, 'subsample': 0.6383240226171438, 'colsample_bytree': 0.6469405758440201, 'reg_alpha': 5.192411418380561e-05, 'reg_lambda': 2.180941969315264e-05, 'n_estimators': 355, 'feature_fraction': 0.6403596474438835, 'bagging_fraction': 0.8180896737852239, 'min_child_weight': 5}. Best is trial 0 with value: 1.0.\n",
      "[I 2025-04-28 13:55:48,931] Trial 37 finished with value: 1.0 and parameters: {'learning_rate': 0.14974477659649546, 'num_leaves': 81, 'max_depth': 8, 'min_child_samples': 65, 'subsample': 0.7391225252359968, 'colsample_bytree': 0.8785366609673942, 'reg_alpha': 1.2646389392298993e-05, 'reg_lambda': 7.541185120616386e-05, 'n_estimators': 437, 'feature_fraction': 0.6776198406870277, 'bagging_fraction': 0.9458635422423107, 'min_child_weight': 28}. Best is trial 0 with value: 1.0.\n",
      "[I 2025-04-28 13:56:44,714] Trial 38 finished with value: 1.0 and parameters: {'learning_rate': 0.10710904773618048, 'num_leaves': 94, 'max_depth': 14, 'min_child_samples': 40, 'subsample': 0.6910981256911861, 'colsample_bytree': 0.7799795273086089, 'reg_alpha': 0.00123498166770669, 'reg_lambda': 2.540837526792877e-06, 'n_estimators': 305, 'feature_fraction': 0.47508529909310826, 'bagging_fraction': 0.9075542568884584, 'min_child_weight': 15}. Best is trial 0 with value: 1.0.\n",
      "[I 2025-04-28 13:59:16,841] Trial 39 finished with value: 1.0 and parameters: {'learning_rate': 0.01863301807448177, 'num_leaves': 125, 'max_depth': 11, 'min_child_samples': 75, 'subsample': 0.860184093082117, 'colsample_bytree': 0.9544052752812606, 'reg_alpha': 0.02692359709845202, 'reg_lambda': 0.00025133424338730307, 'n_estimators': 472, 'feature_fraction': 0.62386047291168, 'bagging_fraction': 0.4987065809850437, 'min_child_weight': 9}. Best is trial 0 with value: 1.0.\n",
      "[I 2025-04-28 13:59:53,601] Trial 40 finished with value: 1.0 and parameters: {'learning_rate': 0.23099786363580127, 'num_leaves': 130, 'max_depth': 13, 'min_child_samples': 50, 'subsample': 0.5029135508255193, 'colsample_bytree': 0.7005750773248485, 'reg_alpha': 0.00015680749720687235, 'reg_lambda': 6.769961787387987e-06, 'n_estimators': 179, 'feature_fraction': 0.8088244888577663, 'bagging_fraction': 0.6657904094035086, 'min_child_weight': 48}. Best is trial 0 with value: 1.0.\n",
      "[I 2025-04-28 14:00:58,309] Trial 41 finished with value: 1.0 and parameters: {'learning_rate': 0.06753394215012638, 'num_leaves': 111, 'max_depth': 6, 'min_child_samples': 19, 'subsample': 0.6657830994873392, 'colsample_bytree': 0.5043880457437386, 'reg_alpha': 0.8177331541271893, 'reg_lambda': 3.7958411559272314, 'n_estimators': 331, 'feature_fraction': 0.6985677543481825, 'bagging_fraction': 0.9701061590440164, 'min_child_weight': 20}. Best is trial 0 with value: 1.0.\n",
      "[I 2025-04-28 14:01:54,985] Trial 42 finished with value: 1.0 and parameters: {'learning_rate': 0.05742711924339349, 'num_leaves': 78, 'max_depth': 7, 'min_child_samples': 15, 'subsample': 0.7640079667060924, 'colsample_bytree': 0.5518630991078397, 'reg_alpha': 6.069180911478861e-07, 'reg_lambda': 0.913118362934631, 'n_estimators': 260, 'feature_fraction': 0.7473093866930088, 'bagging_fraction': 0.8919742586727234, 'min_child_weight': 24}. Best is trial 0 with value: 1.0.\n",
      "[I 2025-04-28 14:02:32,341] Trial 43 finished with value: 1.0 and parameters: {'learning_rate': 0.08955384081525851, 'num_leaves': 104, 'max_depth': 5, 'min_child_samples': 27, 'subsample': 0.6397601774006666, 'colsample_bytree': 0.5998274689827023, 'reg_alpha': 0.004290027919334068, 'reg_lambda': 0.00017223764997440093, 'n_estimators': 345, 'feature_fraction': 0.8753834462814634, 'bagging_fraction': 0.9499763386140606, 'min_child_weight': 41}. Best is trial 0 with value: 1.0.\n",
      "[I 2025-04-28 14:03:00,261] Trial 44 finished with value: 1.0 and parameters: {'learning_rate': 0.17406661165833928, 'num_leaves': 134, 'max_depth': 3, 'min_child_samples': 17, 'subsample': 0.7026655914121784, 'colsample_bytree': 0.5390050840533285, 'reg_alpha': 0.11558874069112006, 'reg_lambda': 0.0008193124650803408, 'n_estimators': 397, 'feature_fraction': 0.8137322213154128, 'bagging_fraction': 0.8363471732477222, 'min_child_weight': 31}. Best is trial 0 with value: 1.0.\n",
      "[I 2025-04-28 14:03:56,740] Trial 45 finished with value: 1.0 and parameters: {'learning_rate': 0.13871145720537364, 'num_leaves': 143, 'max_depth': 8, 'min_child_samples': 32, 'subsample': 0.7888353356972683, 'colsample_bytree': 0.8719153699529246, 'reg_alpha': 6.973515642041537e-06, 'reg_lambda': 7.149826474835497, 'n_estimators': 366, 'feature_fraction': 0.5817539482151426, 'bagging_fraction': 0.9992523291790586, 'min_child_weight': 35}. Best is trial 0 with value: 1.0.\n",
      "[I 2025-04-28 14:04:50,941] Trial 46 finished with value: 1.0 and parameters: {'learning_rate': 0.10875270106551121, 'num_leaves': 60, 'max_depth': 7, 'min_child_samples': 37, 'subsample': 0.6151571089312052, 'colsample_bytree': 0.5256478167934572, 'reg_alpha': 0.0007155425714183553, 'reg_lambda': 2.8281707597192773e-05, 'n_estimators': 141, 'feature_fraction': 0.7063366055212682, 'bagging_fraction': 0.7907763439425183, 'min_child_weight': 26}. Best is trial 0 with value: 1.0.\n",
      "[I 2025-04-28 14:05:59,181] Trial 47 finished with value: 1.0 and parameters: {'learning_rate': 0.0769812379148525, 'num_leaves': 86, 'max_depth': 12, 'min_child_samples': 27, 'subsample': 0.5603631716421289, 'colsample_bytree': 0.5801561580012706, 'reg_alpha': 2.1580847493774473, 'reg_lambda': 7.135206286403888e-07, 'n_estimators': 307, 'feature_fraction': 0.5360745213410454, 'bagging_fraction': 0.7251419525517384, 'min_child_weight': 16}. Best is trial 0 with value: 1.0.\n",
      "[I 2025-04-28 14:06:16,077] Trial 48 finished with value: 1.0 and parameters: {'learning_rate': 0.24945649452325605, 'num_leaves': 121, 'max_depth': 15, 'min_child_samples': 10, 'subsample': 0.6676154165317898, 'colsample_bytree': 0.9177530181131085, 'reg_alpha': 0.04041237286168508, 'reg_lambda': 0.012173404466567806, 'n_estimators': 426, 'feature_fraction': 0.9343429838828068, 'bagging_fraction': 0.7556024320968103, 'min_child_weight': 30}. Best is trial 0 with value: 1.0.\n",
      "[I 2025-04-28 14:06:55,578] Trial 49 finished with value: 1.0 and parameters: {'learning_rate': 0.04852777418944035, 'num_leaves': 107, 'max_depth': 14, 'min_child_samples': 57, 'subsample': 0.7630187433932519, 'colsample_bytree': 0.8217706920961718, 'reg_alpha': 0.007045142666578812, 'reg_lambda': 1.4069524050039416e-07, 'n_estimators': 279, 'feature_fraction': 0.8383623934418732, 'bagging_fraction': 0.8389949068895157, 'min_child_weight': 44}. Best is trial 0 with value: 1.0.\n"
     ]
    },
    {
     "name": "stdout",
     "output_type": "stream",
     "text": [
      "\n",
      "Best trial:\n",
      "  Value: 1.0000\n",
      "  Params:\n",
      "    learning_rate: 0.1418693712348676\n",
      "    num_leaves: 93\n",
      "    max_depth: 12\n",
      "    min_child_samples: 75\n",
      "    subsample: 0.7884650721308273\n",
      "    colsample_bytree: 0.8596671965546114\n",
      "    reg_alpha: 0.02109289810592904\n",
      "    reg_lambda: 1.6552239859588088e-06\n",
      "    n_estimators: 209\n",
      "    feature_fraction: 0.8271006742871947\n",
      "    bagging_fraction: 0.761809685719689\n",
      "    min_child_weight: 43\n"
     ]
    }
   ],
   "source": [
    "# Create Optuna study to maximize accuracy\n",
    "study = optuna.create_study(direction='maximize', study_name='lightgbm_training_testing')\n",
    "study.optimize(objective, n_trials=50, timeout=3600)  # Run for 50 trials or 1 hour\n",
    "\n",
    "# Print the best trial results\n",
    "print(\"\\nBest trial:\")\n",
    "print(f\"  Value: {study.best_trial.value:.4f}\")\n",
    "print(\"  Params:\")\n",
    "for key, value in study.best_trial.params.items():\n",
    "    print(f\"    {key}: {value}\")"
   ]
  },
  {
   "cell_type": "code",
   "execution_count": 8,
   "id": "e629b693",
   "metadata": {},
   "outputs": [
    {
     "name": "stdout",
     "output_type": "stream",
     "text": [
      "\n",
      "Results saved to models_and_data/best_hyperparameters_lightgbm_training_testing.txt\n"
     ]
    }
   ],
   "source": [
    "# Save the best hyperparameters and accuracy score to a file\n",
    "output_file = \"models_and_data/best_hyperparameters_lightgbm_training_testing.txt\"\n",
    "with open(output_file, \"w\") as f:\n",
    "    f.write(\"Best Hyperparameters:\\n\")\n",
    "    for key, value in study.best_trial.params.items():\n",
    "        f.write(f\"{key}: {value}\\n\")\n",
    "    f.write(f\"\\nBest Accuracy: {study.best_trial.value:.4f}\\n\")\n",
    "\n",
    "print(f\"\\nResults saved to {output_file}\")"
   ]
  }
 ],
 "metadata": {
  "kernelspec": {
   "display_name": "Python 3",
   "language": "python",
   "name": "python3"
  },
  "language_info": {
   "codemirror_mode": {
    "name": "ipython",
    "version": 3
   },
   "file_extension": ".py",
   "mimetype": "text/x-python",
   "name": "python",
   "nbconvert_exporter": "python",
   "pygments_lexer": "ipython3",
   "version": "3.13.2"
  }
 },
 "nbformat": 4,
 "nbformat_minor": 5
}
